{
 "cells": [
  {
   "cell_type": "markdown",
   "metadata": {},
   "source": [
    "<h1> Pyreto: A Python library for fitting Pareto disributions to data</h1>\n",
    "\n",
    "<h2> Novel examples </h2>\n",
    "\n",
    "<h2> Replication studies </h2>\n",
    "Collection of examples where I use Pyreto to replicate published findings...\n",
    "\n",
    "<h2> Failed replication studies </h2>\n",
    "Collection of examples where I fail to replicate published findings using Pyreto...\n",
    "\n",
    "\n"
   ]
  },
  {
   "cell_type": "code",
   "execution_count": null,
   "metadata": {
    "collapsed": true
   },
   "outputs": [],
   "source": []
  }
 ],
 "metadata": {
  "kernelspec": {
   "display_name": "Python 3",
   "language": "python",
   "name": "python3"
  },
  "language_info": {
   "codemirror_mode": {
    "name": "ipython",
    "version": 3
   },
   "file_extension": ".py",
   "mimetype": "text/x-python",
   "name": "python",
   "nbconvert_exporter": "python",
   "pygments_lexer": "ipython3",
   "version": "3.5.1"
  }
 },
 "nbformat": 4,
 "nbformat_minor": 0
}
